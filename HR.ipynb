{
 "cells": [
  {
   "cell_type": "code",
   "execution_count": 11,
   "id": "242ab555",
   "metadata": {},
   "outputs": [],
   "source": [
    "import pandas as pd\n",
    "import numpy as np"
   ]
  },
  {
   "cell_type": "code",
   "execution_count": 12,
   "id": "2610bb6b",
   "metadata": {},
   "outputs": [],
   "source": [
    "employers = pd.read_csv('Attrition_dataset.csv', sep=';')\n",
    "cities = pd.read_csv('Cities_map.csv', sep=';')"
   ]
  },
  {
   "cell_type": "code",
   "execution_count": 13,
   "id": "a03ee625",
   "metadata": {},
   "outputs": [
    {
     "name": "stdout",
     "output_type": "stream",
     "text": [
      "   Emp_ID      MMM.YY  Age        Salary LastWorkingDate  Designation  \\\n",
      "0       1  01.01.2016   28  57387,00 USD             NaN            1   \n",
      "1       1  01.02.2016   28  57387,00 USD             NaN            1   \n",
      "2       1  01.03.2016   28  57387,00 USD      11.03.2016            1   \n",
      "3       2  01.11.2017   31  67016,00 USD             NaN            2   \n",
      "4       2  01.12.2017   31  67016,00 USD             NaN            2   \n",
      "\n",
      "   Total.Business.Value  Quarterly.Rating Gender City Education_Level  \\\n",
      "0               2381060                 2   Male  C23          MASTER   \n",
      "1               -665480                 2   Male  C23          MASTER   \n",
      "2                     0                 2   Male  C23          MASTER   \n",
      "3                     0                 1   Male   C7          Master   \n",
      "4                     0                 1   Male   C7          Master   \n",
      "\n",
      "  Dateofjoining  Joining.Designation  \n",
      "0    24.12.2015                    1  \n",
      "1    24.12.2015                    1  \n",
      "2    24.12.2015                    1  \n",
      "3    06.11.2017                    2  \n",
      "4    06.11.2017                    2  \n"
     ]
    }
   ],
   "source": [
    "print(employers.head())"
   ]
  },
  {
   "cell_type": "code",
   "execution_count": 14,
   "id": "afa5c13b",
   "metadata": {},
   "outputs": [
    {
     "name": "stdout",
     "output_type": "stream",
     "text": [
      "  City_ID  City_Name\n",
      "0     C01     Austin\n",
      "1     C02     Boston\n",
      "2     C03  Charlotte\n",
      "3     C04    Chicago\n",
      "4     C05   Columbus\n"
     ]
    }
   ],
   "source": [
    "print(cities.head())"
   ]
  },
  {
   "cell_type": "code",
   "execution_count": 15,
   "id": "3044d689",
   "metadata": {},
   "outputs": [],
   "source": [
    "employers.rename(columns={\n",
    "    'Emp_ID': 'ID',\n",
    "    'MMM.YY': 'Day of Month Rate',\n",
    "    'LastWorkingDate': 'Last Working Date',\n",
    "    'Total.Business.Value': 'Total Business Value',\n",
    "    'Quarterly.Rating': 'Quarterly Rating',\n",
    "    'Education_Level': 'Education Level',\n",
    "    'Dateofjoining': 'Date of Joining',\n",
    "    'Joining.Designation':'Joining Designation'\n",
    "}, inplace=True)"
   ]
  },
  {
   "cell_type": "code",
   "execution_count": 16,
   "id": "e25ce6cb",
   "metadata": {},
   "outputs": [
    {
     "name": "stdout",
     "output_type": "stream",
     "text": [
      "<class 'pandas.core.frame.DataFrame'>\n",
      "RangeIndex: 19190 entries, 0 to 19189\n",
      "Data columns (total 13 columns):\n",
      " #   Column                Non-Null Count  Dtype \n",
      "---  ------                --------------  ----- \n",
      " 0   ID                    19190 non-null  int64 \n",
      " 1   Day of Month Rate     19190 non-null  object\n",
      " 2   Age                   19190 non-null  int64 \n",
      " 3   Salary                19190 non-null  object\n",
      " 4   Last Working Date     1628 non-null   object\n",
      " 5   Designation           19190 non-null  int64 \n",
      " 6   Total Business Value  19190 non-null  int64 \n",
      " 7   Quarterly Rating      19190 non-null  int64 \n",
      " 8   Gender                19190 non-null  object\n",
      " 9   City                  19190 non-null  object\n",
      " 10  Education Level       19190 non-null  object\n",
      " 11  Date of Joining       19190 non-null  object\n",
      " 12  Joining Designation   19190 non-null  int64 \n",
      "dtypes: int64(6), object(7)\n",
      "memory usage: 1.9+ MB\n",
      "None\n"
     ]
    }
   ],
   "source": [
    "print(employers.info())"
   ]
  },
  {
   "cell_type": "code",
   "execution_count": 17,
   "id": "97eee791",
   "metadata": {},
   "outputs": [
    {
     "data": {
      "text/html": [
       "<div>\n",
       "<style scoped>\n",
       "    .dataframe tbody tr th:only-of-type {\n",
       "        vertical-align: middle;\n",
       "    }\n",
       "\n",
       "    .dataframe tbody tr th {\n",
       "        vertical-align: top;\n",
       "    }\n",
       "\n",
       "    .dataframe thead th {\n",
       "        text-align: right;\n",
       "    }\n",
       "</style>\n",
       "<table border=\"1\" class=\"dataframe\">\n",
       "  <thead>\n",
       "    <tr style=\"text-align: right;\">\n",
       "      <th></th>\n",
       "      <th>ID</th>\n",
       "      <th>Day of Month Rate</th>\n",
       "      <th>Age</th>\n",
       "      <th>Salary</th>\n",
       "      <th>Last Working Date</th>\n",
       "      <th>Designation</th>\n",
       "      <th>Total Business Value</th>\n",
       "      <th>Quarterly Rating</th>\n",
       "      <th>Gender</th>\n",
       "      <th>City</th>\n",
       "      <th>Education Level</th>\n",
       "      <th>Date of Joining</th>\n",
       "      <th>Joining Designation</th>\n",
       "    </tr>\n",
       "  </thead>\n",
       "  <tbody>\n",
       "    <tr>\n",
       "      <th>count</th>\n",
       "      <td>19190.000000</td>\n",
       "      <td>19190</td>\n",
       "      <td>19190.000000</td>\n",
       "      <td>19190</td>\n",
       "      <td>1628</td>\n",
       "      <td>19190.000000</td>\n",
       "      <td>1.919000e+04</td>\n",
       "      <td>19190.000000</td>\n",
       "      <td>19190</td>\n",
       "      <td>19190</td>\n",
       "      <td>19190</td>\n",
       "      <td>19190</td>\n",
       "      <td>19190.000000</td>\n",
       "    </tr>\n",
       "    <tr>\n",
       "      <th>unique</th>\n",
       "      <td>NaN</td>\n",
       "      <td>24</td>\n",
       "      <td>NaN</td>\n",
       "      <td>2383</td>\n",
       "      <td>493</td>\n",
       "      <td>NaN</td>\n",
       "      <td>NaN</td>\n",
       "      <td>NaN</td>\n",
       "      <td>2</td>\n",
       "      <td>29</td>\n",
       "      <td>6</td>\n",
       "      <td>869</td>\n",
       "      <td>NaN</td>\n",
       "    </tr>\n",
       "    <tr>\n",
       "      <th>top</th>\n",
       "      <td>NaN</td>\n",
       "      <td>01.01.2016</td>\n",
       "      <td>NaN</td>\n",
       "      <td>48747,00 USD</td>\n",
       "      <td>29.07.2017</td>\n",
       "      <td>NaN</td>\n",
       "      <td>NaN</td>\n",
       "      <td>NaN</td>\n",
       "      <td>Male</td>\n",
       "      <td>C20</td>\n",
       "      <td>Bachelor</td>\n",
       "      <td>23.07.2012</td>\n",
       "      <td>NaN</td>\n",
       "    </tr>\n",
       "    <tr>\n",
       "      <th>freq</th>\n",
       "      <td>NaN</td>\n",
       "      <td>1025</td>\n",
       "      <td>NaN</td>\n",
       "      <td>57</td>\n",
       "      <td>71</td>\n",
       "      <td>NaN</td>\n",
       "      <td>NaN</td>\n",
       "      <td>NaN</td>\n",
       "      <td>11151</td>\n",
       "      <td>1014</td>\n",
       "      <td>5551</td>\n",
       "      <td>194</td>\n",
       "      <td>NaN</td>\n",
       "    </tr>\n",
       "    <tr>\n",
       "      <th>mean</th>\n",
       "      <td>1416.239083</td>\n",
       "      <td>NaN</td>\n",
       "      <td>34.649192</td>\n",
       "      <td>NaN</td>\n",
       "      <td>NaN</td>\n",
       "      <td>2.252579</td>\n",
       "      <td>5.710257e+05</td>\n",
       "      <td>2.008963</td>\n",
       "      <td>NaN</td>\n",
       "      <td>NaN</td>\n",
       "      <td>NaN</td>\n",
       "      <td>NaN</td>\n",
       "      <td>1.690412</td>\n",
       "    </tr>\n",
       "    <tr>\n",
       "      <th>std</th>\n",
       "      <td>810.866259</td>\n",
       "      <td>NaN</td>\n",
       "      <td>6.264600</td>\n",
       "      <td>NaN</td>\n",
       "      <td>NaN</td>\n",
       "      <td>1.026329</td>\n",
       "      <td>1.126591e+06</td>\n",
       "      <td>1.009839</td>\n",
       "      <td>NaN</td>\n",
       "      <td>NaN</td>\n",
       "      <td>NaN</td>\n",
       "      <td>NaN</td>\n",
       "      <td>0.836580</td>\n",
       "    </tr>\n",
       "    <tr>\n",
       "      <th>min</th>\n",
       "      <td>1.000000</td>\n",
       "      <td>NaN</td>\n",
       "      <td>21.000000</td>\n",
       "      <td>NaN</td>\n",
       "      <td>NaN</td>\n",
       "      <td>1.000000</td>\n",
       "      <td>-6.000000e+06</td>\n",
       "      <td>1.000000</td>\n",
       "      <td>NaN</td>\n",
       "      <td>NaN</td>\n",
       "      <td>NaN</td>\n",
       "      <td>NaN</td>\n",
       "      <td>1.000000</td>\n",
       "    </tr>\n",
       "    <tr>\n",
       "      <th>25%</th>\n",
       "      <td>712.000000</td>\n",
       "      <td>NaN</td>\n",
       "      <td>30.000000</td>\n",
       "      <td>NaN</td>\n",
       "      <td>NaN</td>\n",
       "      <td>1.000000</td>\n",
       "      <td>0.000000e+00</td>\n",
       "      <td>1.000000</td>\n",
       "      <td>NaN</td>\n",
       "      <td>NaN</td>\n",
       "      <td>NaN</td>\n",
       "      <td>NaN</td>\n",
       "      <td>1.000000</td>\n",
       "    </tr>\n",
       "    <tr>\n",
       "      <th>50%</th>\n",
       "      <td>1417.500000</td>\n",
       "      <td>NaN</td>\n",
       "      <td>34.000000</td>\n",
       "      <td>NaN</td>\n",
       "      <td>NaN</td>\n",
       "      <td>2.000000</td>\n",
       "      <td>2.500000e+05</td>\n",
       "      <td>2.000000</td>\n",
       "      <td>NaN</td>\n",
       "      <td>NaN</td>\n",
       "      <td>NaN</td>\n",
       "      <td>NaN</td>\n",
       "      <td>1.000000</td>\n",
       "    </tr>\n",
       "    <tr>\n",
       "      <th>75%</th>\n",
       "      <td>2139.000000</td>\n",
       "      <td>NaN</td>\n",
       "      <td>39.000000</td>\n",
       "      <td>NaN</td>\n",
       "      <td>NaN</td>\n",
       "      <td>3.000000</td>\n",
       "      <td>6.995850e+05</td>\n",
       "      <td>3.000000</td>\n",
       "      <td>NaN</td>\n",
       "      <td>NaN</td>\n",
       "      <td>NaN</td>\n",
       "      <td>NaN</td>\n",
       "      <td>2.000000</td>\n",
       "    </tr>\n",
       "    <tr>\n",
       "      <th>max</th>\n",
       "      <td>2788.000000</td>\n",
       "      <td>NaN</td>\n",
       "      <td>58.000000</td>\n",
       "      <td>NaN</td>\n",
       "      <td>NaN</td>\n",
       "      <td>5.000000</td>\n",
       "      <td>3.374772e+07</td>\n",
       "      <td>4.000000</td>\n",
       "      <td>NaN</td>\n",
       "      <td>NaN</td>\n",
       "      <td>NaN</td>\n",
       "      <td>NaN</td>\n",
       "      <td>5.000000</td>\n",
       "    </tr>\n",
       "  </tbody>\n",
       "</table>\n",
       "</div>"
      ],
      "text/plain": [
       "                  ID Day of Month Rate           Age        Salary  \\\n",
       "count   19190.000000             19190  19190.000000         19190   \n",
       "unique           NaN                24           NaN          2383   \n",
       "top              NaN        01.01.2016           NaN  48747,00 USD   \n",
       "freq             NaN              1025           NaN            57   \n",
       "mean     1416.239083               NaN     34.649192           NaN   \n",
       "std       810.866259               NaN      6.264600           NaN   \n",
       "min         1.000000               NaN     21.000000           NaN   \n",
       "25%       712.000000               NaN     30.000000           NaN   \n",
       "50%      1417.500000               NaN     34.000000           NaN   \n",
       "75%      2139.000000               NaN     39.000000           NaN   \n",
       "max      2788.000000               NaN     58.000000           NaN   \n",
       "\n",
       "       Last Working Date   Designation  Total Business Value  \\\n",
       "count               1628  19190.000000          1.919000e+04   \n",
       "unique               493           NaN                   NaN   \n",
       "top           29.07.2017           NaN                   NaN   \n",
       "freq                  71           NaN                   NaN   \n",
       "mean                 NaN      2.252579          5.710257e+05   \n",
       "std                  NaN      1.026329          1.126591e+06   \n",
       "min                  NaN      1.000000         -6.000000e+06   \n",
       "25%                  NaN      1.000000          0.000000e+00   \n",
       "50%                  NaN      2.000000          2.500000e+05   \n",
       "75%                  NaN      3.000000          6.995850e+05   \n",
       "max                  NaN      5.000000          3.374772e+07   \n",
       "\n",
       "        Quarterly Rating Gender   City Education Level Date of Joining  \\\n",
       "count       19190.000000  19190  19190           19190           19190   \n",
       "unique               NaN      2     29               6             869   \n",
       "top                  NaN   Male    C20        Bachelor      23.07.2012   \n",
       "freq                 NaN  11151   1014            5551             194   \n",
       "mean            2.008963    NaN    NaN             NaN             NaN   \n",
       "std             1.009839    NaN    NaN             NaN             NaN   \n",
       "min             1.000000    NaN    NaN             NaN             NaN   \n",
       "25%             1.000000    NaN    NaN             NaN             NaN   \n",
       "50%             2.000000    NaN    NaN             NaN             NaN   \n",
       "75%             3.000000    NaN    NaN             NaN             NaN   \n",
       "max             4.000000    NaN    NaN             NaN             NaN   \n",
       "\n",
       "        Joining Designation  \n",
       "count          19190.000000  \n",
       "unique                  NaN  \n",
       "top                     NaN  \n",
       "freq                    NaN  \n",
       "mean               1.690412  \n",
       "std                0.836580  \n",
       "min                1.000000  \n",
       "25%                1.000000  \n",
       "50%                1.000000  \n",
       "75%                2.000000  \n",
       "max                5.000000  "
      ]
     },
     "execution_count": 17,
     "metadata": {},
     "output_type": "execute_result"
    }
   ],
   "source": [
    "employers.describe(include='all')"
   ]
  },
  {
   "cell_type": "code",
   "execution_count": 18,
   "id": "f039f59e",
   "metadata": {},
   "outputs": [
    {
     "name": "stdout",
     "output_type": "stream",
     "text": [
      "0            MASTER\n",
      "1            MASTER\n",
      "2            MASTER\n",
      "3            Master\n",
      "4            Master\n",
      "            ...    \n",
      "19185        Colege\n",
      "19186        Master\n",
      "19187      Bachelor\n",
      "19188    Bachelor's\n",
      "19189        Master\n",
      "Name: Education Level, Length: 19190, dtype: object\n"
     ]
    }
   ],
   "source": [
    "print(employers['Education Level'])"
   ]
  },
  {
   "cell_type": "code",
   "execution_count": 19,
   "id": "b92b51aa",
   "metadata": {},
   "outputs": [],
   "source": [
    "employers['Education Level'] = employers['Education Level'].apply(lambda x: 'Master' if x[0]== 'M' else ('College' if x[0]=='C' else 'Bachelor'))"
   ]
  },
  {
   "cell_type": "code",
   "execution_count": 20,
   "id": "26dd824a",
   "metadata": {},
   "outputs": [
    {
     "name": "stdout",
     "output_type": "stream",
     "text": [
      "0          Master\n",
      "1          Master\n",
      "2          Master\n",
      "3          Master\n",
      "4          Master\n",
      "           ...   \n",
      "19185     College\n",
      "19186      Master\n",
      "19187    Bachelor\n",
      "19188    Bachelor\n",
      "19189      Master\n",
      "Name: Education Level, Length: 19190, dtype: object\n"
     ]
    }
   ],
   "source": [
    "print(employers['Education Level'])"
   ]
  },
  {
   "cell_type": "code",
   "execution_count": 21,
   "id": "466d37d3",
   "metadata": {},
   "outputs": [
    {
     "data": {
      "text/plain": [
       "3"
      ]
     },
     "execution_count": 21,
     "metadata": {},
     "output_type": "execute_result"
    }
   ],
   "source": [
    "employers['Education Level'].nunique()"
   ]
  },
  {
   "cell_type": "code",
   "execution_count": 27,
   "id": "c7d0dc1c",
   "metadata": {},
   "outputs": [],
   "source": [
    "df = pd.merge(employers, cities.rename(\n",
    "columns={\n",
    "    'City_ID': 'City'\n",
    "}))"
   ]
  },
  {
   "cell_type": "code",
   "execution_count": 28,
   "id": "f9071eda",
   "metadata": {},
   "outputs": [
    {
     "name": "stdout",
     "output_type": "stream",
     "text": [
      "         ID Day of Month Rate  Age        Salary Last Working Date  \\\n",
      "0         1        01.01.2016   28  57387,00 USD               NaN   \n",
      "1         1        01.02.2016   28  57387,00 USD               NaN   \n",
      "2         1        01.03.2016   28  57387,00 USD        11.03.2016   \n",
      "3        12        01.07.2016   35  28116,00 USD               NaN   \n",
      "4        12        01.08.2016   35  28116,00 USD               NaN   \n",
      "...     ...               ...  ...           ...               ...   \n",
      "13639  1763        01.01.2017   22  33042,00 USD        21.01.2017   \n",
      "13640  1161        01.10.2017   30  67371,00 USD               NaN   \n",
      "13641  1746        01.01.2016   49  38478,00 USD               NaN   \n",
      "13642  1043        01.05.2017   33  93121,00 USD               NaN   \n",
      "13643  1606        01.09.2016   43  99127,00 USD               NaN   \n",
      "\n",
      "       Designation  Total Business Value  Quarterly Rating  Gender City  \\\n",
      "0                1               2381060                 2    Male  C23   \n",
      "1                1               -665480                 2    Male  C23   \n",
      "2                1                     0                 2    Male  C23   \n",
      "3                1                500000                 4    Male  C23   \n",
      "4                1               1707180                 4    Male  C23   \n",
      "...            ...                   ...               ...     ...  ...   \n",
      "13639            1                     0                 1  Female  C12   \n",
      "13640            3                304660                 1    Male  C12   \n",
      "13641            2                770320                 2  Female  C12   \n",
      "13642            3                150150                 3    Male  C12   \n",
      "13643            3               1903060                 4  Female  C12   \n",
      "\n",
      "      Education Level Date of Joining  Joining Designation     City_Name  \n",
      "0              Master      24.12.2015                    1      Portland  \n",
      "1              Master      24.12.2015                    1      Portland  \n",
      "2              Master      24.12.2015                    1      Portland  \n",
      "3              Master      29.06.2016                    1      Portland  \n",
      "4              Master      29.06.2016                    1      Portland  \n",
      "...               ...             ...                  ...           ...  \n",
      "13639         College      30.11.2016                    1  Indianapolis  \n",
      "13640        Bachelor      08.02.2014                    1  Indianapolis  \n",
      "13641          Master      24.09.2015                    1  Indianapolis  \n",
      "13642        Bachelor      14.05.2012                    2  Indianapolis  \n",
      "13643        Bachelor      22.08.2011                    1  Indianapolis  \n",
      "\n",
      "[13644 rows x 14 columns]\n"
     ]
    }
   ],
   "source": [
    "print(df)"
   ]
  },
  {
   "cell_type": "code",
   "execution_count": 30,
   "id": "bbe1e3f9",
   "metadata": {},
   "outputs": [],
   "source": [
    "df.drop('City', inplace=True, axis=1)"
   ]
  },
  {
   "cell_type": "code",
   "execution_count": 32,
   "id": "e666e80f",
   "metadata": {},
   "outputs": [],
   "source": [
    "df.rename(columns={\n",
    "    'City_Name': 'City'\n",
    "}, inplace=True)"
   ]
  },
  {
   "cell_type": "code",
   "execution_count": 33,
   "id": "b6fdae02",
   "metadata": {},
   "outputs": [
    {
     "name": "stdout",
     "output_type": "stream",
     "text": [
      "   ID Day of Month Rate  Age        Salary Last Working Date  Designation  \\\n",
      "0   1        01.01.2016   28  57387,00 USD               NaN            1   \n",
      "1   1        01.02.2016   28  57387,00 USD               NaN            1   \n",
      "2   1        01.03.2016   28  57387,00 USD        11.03.2016            1   \n",
      "3  12        01.07.2016   35  28116,00 USD               NaN            1   \n",
      "4  12        01.08.2016   35  28116,00 USD               NaN            1   \n",
      "\n",
      "   Total Business Value  Quarterly Rating Gender Education Level  \\\n",
      "0               2381060                 2   Male          Master   \n",
      "1               -665480                 2   Male          Master   \n",
      "2                     0                 2   Male          Master   \n",
      "3                500000                 4   Male          Master   \n",
      "4               1707180                 4   Male          Master   \n",
      "\n",
      "  Date of Joining  Joining Designation      City  \n",
      "0      24.12.2015                    1  Portland  \n",
      "1      24.12.2015                    1  Portland  \n",
      "2      24.12.2015                    1  Portland  \n",
      "3      29.06.2016                    1  Portland  \n",
      "4      29.06.2016                    1  Portland  \n"
     ]
    }
   ],
   "source": [
    "print(df.head())"
   ]
  },
  {
   "cell_type": "code",
   "execution_count": null,
   "id": "3da2624c",
   "metadata": {},
   "outputs": [],
   "source": []
  }
 ],
 "metadata": {
  "kernelspec": {
   "display_name": "Python 3 (ipykernel)",
   "language": "python",
   "name": "python3"
  },
  "language_info": {
   "codemirror_mode": {
    "name": "ipython",
    "version": 3
   },
   "file_extension": ".py",
   "mimetype": "text/x-python",
   "name": "python",
   "nbconvert_exporter": "python",
   "pygments_lexer": "ipython3",
   "version": "3.9.7"
  }
 },
 "nbformat": 4,
 "nbformat_minor": 5
}
