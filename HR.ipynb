{
 "cells": [
  {
   "cell_type": "code",
   "execution_count": 21,
   "id": "242ab555",
   "metadata": {},
   "outputs": [],
   "source": [
    "import pandas as pd\n",
    "import numpy as np\n",
    "import matplotlib.pyplot as plt \n",
    "import seaborn as sns"
   ]
  },
  {
   "cell_type": "code",
   "execution_count": 2,
   "id": "2610bb6b",
   "metadata": {},
   "outputs": [],
   "source": [
    "employers = pd.read_csv('Attrition_dataset.csv', sep=';')\n",
    "cities = pd.read_csv('Cities_map.csv', sep=';')"
   ]
  },
  {
   "cell_type": "code",
   "execution_count": 3,
   "id": "a03ee625",
   "metadata": {},
   "outputs": [
    {
     "name": "stdout",
     "output_type": "stream",
     "text": [
      "   Emp_ID      MMM.YY  Age        Salary LastWorkingDate  Designation  \\\n",
      "0       1  01.01.2016   28  57387,00 USD             NaN            1   \n",
      "1       1  01.02.2016   28  57387,00 USD             NaN            1   \n",
      "2       1  01.03.2016   28  57387,00 USD      11.03.2016            1   \n",
      "3       2  01.11.2017   31  67016,00 USD             NaN            2   \n",
      "4       2  01.12.2017   31  67016,00 USD             NaN            2   \n",
      "\n",
      "   Total.Business.Value  Quarterly.Rating Gender City Education_Level  \\\n",
      "0               2381060                 2   Male  C23          MASTER   \n",
      "1               -665480                 2   Male  C23          MASTER   \n",
      "2                     0                 2   Male  C23          MASTER   \n",
      "3                     0                 1   Male   C7          Master   \n",
      "4                     0                 1   Male   C7          Master   \n",
      "\n",
      "  Dateofjoining  Joining.Designation  \n",
      "0    24.12.2015                    1  \n",
      "1    24.12.2015                    1  \n",
      "2    24.12.2015                    1  \n",
      "3    06.11.2017                    2  \n",
      "4    06.11.2017                    2  \n"
     ]
    }
   ],
   "source": [
    "print(employers.head())"
   ]
  },
  {
   "cell_type": "code",
   "execution_count": 4,
   "id": "afa5c13b",
   "metadata": {},
   "outputs": [
    {
     "name": "stdout",
     "output_type": "stream",
     "text": [
      "  City_ID  City_Name\n",
      "0     C01     Austin\n",
      "1     C02     Boston\n",
      "2     C03  Charlotte\n",
      "3     C04    Chicago\n",
      "4     C05   Columbus\n"
     ]
    }
   ],
   "source": [
    "print(cities.head())"
   ]
  },
  {
   "cell_type": "code",
   "execution_count": 5,
   "id": "3044d689",
   "metadata": {},
   "outputs": [],
   "source": [
    "employers.rename(columns={\n",
    "    'Emp_ID': 'ID',\n",
    "    'MMM.YY': 'Day of Month Rate',\n",
    "    'LastWorkingDate': 'Last Working Date',\n",
    "    'Total.Business.Value': 'Total Business Value',\n",
    "    'Quarterly.Rating': 'Quarterly Rating',\n",
    "    'Education_Level': 'Education Level',\n",
    "    'Dateofjoining': 'Date of Joining',\n",
    "    'Joining.Designation':'Joining Designation'\n",
    "}, inplace=True)"
   ]
  },
  {
   "cell_type": "code",
   "execution_count": 6,
   "id": "e25ce6cb",
   "metadata": {},
   "outputs": [
    {
     "name": "stdout",
     "output_type": "stream",
     "text": [
      "<class 'pandas.core.frame.DataFrame'>\n",
      "RangeIndex: 19190 entries, 0 to 19189\n",
      "Data columns (total 13 columns):\n",
      " #   Column                Non-Null Count  Dtype \n",
      "---  ------                --------------  ----- \n",
      " 0   ID                    19190 non-null  int64 \n",
      " 1   Day of Month Rate     19190 non-null  object\n",
      " 2   Age                   19190 non-null  int64 \n",
      " 3   Salary                19190 non-null  object\n",
      " 4   Last Working Date     1628 non-null   object\n",
      " 5   Designation           19190 non-null  int64 \n",
      " 6   Total Business Value  19190 non-null  int64 \n",
      " 7   Quarterly Rating      19190 non-null  int64 \n",
      " 8   Gender                19190 non-null  object\n",
      " 9   City                  19190 non-null  object\n",
      " 10  Education Level       19190 non-null  object\n",
      " 11  Date of Joining       19190 non-null  object\n",
      " 12  Joining Designation   19190 non-null  int64 \n",
      "dtypes: int64(6), object(7)\n",
      "memory usage: 1.9+ MB\n",
      "None\n"
     ]
    }
   ],
   "source": [
    "print(employers.info())"
   ]
  },
  {
   "cell_type": "code",
   "execution_count": 7,
   "id": "97eee791",
   "metadata": {},
   "outputs": [
    {
     "data": {
      "text/html": [
       "<div>\n",
       "<style scoped>\n",
       "    .dataframe tbody tr th:only-of-type {\n",
       "        vertical-align: middle;\n",
       "    }\n",
       "\n",
       "    .dataframe tbody tr th {\n",
       "        vertical-align: top;\n",
       "    }\n",
       "\n",
       "    .dataframe thead th {\n",
       "        text-align: right;\n",
       "    }\n",
       "</style>\n",
       "<table border=\"1\" class=\"dataframe\">\n",
       "  <thead>\n",
       "    <tr style=\"text-align: right;\">\n",
       "      <th></th>\n",
       "      <th>ID</th>\n",
       "      <th>Day of Month Rate</th>\n",
       "      <th>Age</th>\n",
       "      <th>Salary</th>\n",
       "      <th>Last Working Date</th>\n",
       "      <th>Designation</th>\n",
       "      <th>Total Business Value</th>\n",
       "      <th>Quarterly Rating</th>\n",
       "      <th>Gender</th>\n",
       "      <th>City</th>\n",
       "      <th>Education Level</th>\n",
       "      <th>Date of Joining</th>\n",
       "      <th>Joining Designation</th>\n",
       "    </tr>\n",
       "  </thead>\n",
       "  <tbody>\n",
       "    <tr>\n",
       "      <th>count</th>\n",
       "      <td>19190.000000</td>\n",
       "      <td>19190</td>\n",
       "      <td>19190.000000</td>\n",
       "      <td>19190</td>\n",
       "      <td>1628</td>\n",
       "      <td>19190.000000</td>\n",
       "      <td>1.919000e+04</td>\n",
       "      <td>19190.000000</td>\n",
       "      <td>19190</td>\n",
       "      <td>19190</td>\n",
       "      <td>19190</td>\n",
       "      <td>19190</td>\n",
       "      <td>19190.000000</td>\n",
       "    </tr>\n",
       "    <tr>\n",
       "      <th>unique</th>\n",
       "      <td>NaN</td>\n",
       "      <td>24</td>\n",
       "      <td>NaN</td>\n",
       "      <td>2383</td>\n",
       "      <td>493</td>\n",
       "      <td>NaN</td>\n",
       "      <td>NaN</td>\n",
       "      <td>NaN</td>\n",
       "      <td>2</td>\n",
       "      <td>29</td>\n",
       "      <td>6</td>\n",
       "      <td>869</td>\n",
       "      <td>NaN</td>\n",
       "    </tr>\n",
       "    <tr>\n",
       "      <th>top</th>\n",
       "      <td>NaN</td>\n",
       "      <td>01.01.2016</td>\n",
       "      <td>NaN</td>\n",
       "      <td>48747,00 USD</td>\n",
       "      <td>29.07.2017</td>\n",
       "      <td>NaN</td>\n",
       "      <td>NaN</td>\n",
       "      <td>NaN</td>\n",
       "      <td>Male</td>\n",
       "      <td>C20</td>\n",
       "      <td>Bachelor</td>\n",
       "      <td>23.07.2012</td>\n",
       "      <td>NaN</td>\n",
       "    </tr>\n",
       "    <tr>\n",
       "      <th>freq</th>\n",
       "      <td>NaN</td>\n",
       "      <td>1025</td>\n",
       "      <td>NaN</td>\n",
       "      <td>57</td>\n",
       "      <td>71</td>\n",
       "      <td>NaN</td>\n",
       "      <td>NaN</td>\n",
       "      <td>NaN</td>\n",
       "      <td>11151</td>\n",
       "      <td>1014</td>\n",
       "      <td>5551</td>\n",
       "      <td>194</td>\n",
       "      <td>NaN</td>\n",
       "    </tr>\n",
       "    <tr>\n",
       "      <th>mean</th>\n",
       "      <td>1416.239083</td>\n",
       "      <td>NaN</td>\n",
       "      <td>34.649192</td>\n",
       "      <td>NaN</td>\n",
       "      <td>NaN</td>\n",
       "      <td>2.252579</td>\n",
       "      <td>5.710257e+05</td>\n",
       "      <td>2.008963</td>\n",
       "      <td>NaN</td>\n",
       "      <td>NaN</td>\n",
       "      <td>NaN</td>\n",
       "      <td>NaN</td>\n",
       "      <td>1.690412</td>\n",
       "    </tr>\n",
       "    <tr>\n",
       "      <th>std</th>\n",
       "      <td>810.866259</td>\n",
       "      <td>NaN</td>\n",
       "      <td>6.264600</td>\n",
       "      <td>NaN</td>\n",
       "      <td>NaN</td>\n",
       "      <td>1.026329</td>\n",
       "      <td>1.126591e+06</td>\n",
       "      <td>1.009839</td>\n",
       "      <td>NaN</td>\n",
       "      <td>NaN</td>\n",
       "      <td>NaN</td>\n",
       "      <td>NaN</td>\n",
       "      <td>0.836580</td>\n",
       "    </tr>\n",
       "    <tr>\n",
       "      <th>min</th>\n",
       "      <td>1.000000</td>\n",
       "      <td>NaN</td>\n",
       "      <td>21.000000</td>\n",
       "      <td>NaN</td>\n",
       "      <td>NaN</td>\n",
       "      <td>1.000000</td>\n",
       "      <td>-6.000000e+06</td>\n",
       "      <td>1.000000</td>\n",
       "      <td>NaN</td>\n",
       "      <td>NaN</td>\n",
       "      <td>NaN</td>\n",
       "      <td>NaN</td>\n",
       "      <td>1.000000</td>\n",
       "    </tr>\n",
       "    <tr>\n",
       "      <th>25%</th>\n",
       "      <td>712.000000</td>\n",
       "      <td>NaN</td>\n",
       "      <td>30.000000</td>\n",
       "      <td>NaN</td>\n",
       "      <td>NaN</td>\n",
       "      <td>1.000000</td>\n",
       "      <td>0.000000e+00</td>\n",
       "      <td>1.000000</td>\n",
       "      <td>NaN</td>\n",
       "      <td>NaN</td>\n",
       "      <td>NaN</td>\n",
       "      <td>NaN</td>\n",
       "      <td>1.000000</td>\n",
       "    </tr>\n",
       "    <tr>\n",
       "      <th>50%</th>\n",
       "      <td>1417.500000</td>\n",
       "      <td>NaN</td>\n",
       "      <td>34.000000</td>\n",
       "      <td>NaN</td>\n",
       "      <td>NaN</td>\n",
       "      <td>2.000000</td>\n",
       "      <td>2.500000e+05</td>\n",
       "      <td>2.000000</td>\n",
       "      <td>NaN</td>\n",
       "      <td>NaN</td>\n",
       "      <td>NaN</td>\n",
       "      <td>NaN</td>\n",
       "      <td>1.000000</td>\n",
       "    </tr>\n",
       "    <tr>\n",
       "      <th>75%</th>\n",
       "      <td>2139.000000</td>\n",
       "      <td>NaN</td>\n",
       "      <td>39.000000</td>\n",
       "      <td>NaN</td>\n",
       "      <td>NaN</td>\n",
       "      <td>3.000000</td>\n",
       "      <td>6.995850e+05</td>\n",
       "      <td>3.000000</td>\n",
       "      <td>NaN</td>\n",
       "      <td>NaN</td>\n",
       "      <td>NaN</td>\n",
       "      <td>NaN</td>\n",
       "      <td>2.000000</td>\n",
       "    </tr>\n",
       "    <tr>\n",
       "      <th>max</th>\n",
       "      <td>2788.000000</td>\n",
       "      <td>NaN</td>\n",
       "      <td>58.000000</td>\n",
       "      <td>NaN</td>\n",
       "      <td>NaN</td>\n",
       "      <td>5.000000</td>\n",
       "      <td>3.374772e+07</td>\n",
       "      <td>4.000000</td>\n",
       "      <td>NaN</td>\n",
       "      <td>NaN</td>\n",
       "      <td>NaN</td>\n",
       "      <td>NaN</td>\n",
       "      <td>5.000000</td>\n",
       "    </tr>\n",
       "  </tbody>\n",
       "</table>\n",
       "</div>"
      ],
      "text/plain": [
       "                  ID Day of Month Rate           Age        Salary  \\\n",
       "count   19190.000000             19190  19190.000000         19190   \n",
       "unique           NaN                24           NaN          2383   \n",
       "top              NaN        01.01.2016           NaN  48747,00 USD   \n",
       "freq             NaN              1025           NaN            57   \n",
       "mean     1416.239083               NaN     34.649192           NaN   \n",
       "std       810.866259               NaN      6.264600           NaN   \n",
       "min         1.000000               NaN     21.000000           NaN   \n",
       "25%       712.000000               NaN     30.000000           NaN   \n",
       "50%      1417.500000               NaN     34.000000           NaN   \n",
       "75%      2139.000000               NaN     39.000000           NaN   \n",
       "max      2788.000000               NaN     58.000000           NaN   \n",
       "\n",
       "       Last Working Date   Designation  Total Business Value  \\\n",
       "count               1628  19190.000000          1.919000e+04   \n",
       "unique               493           NaN                   NaN   \n",
       "top           29.07.2017           NaN                   NaN   \n",
       "freq                  71           NaN                   NaN   \n",
       "mean                 NaN      2.252579          5.710257e+05   \n",
       "std                  NaN      1.026329          1.126591e+06   \n",
       "min                  NaN      1.000000         -6.000000e+06   \n",
       "25%                  NaN      1.000000          0.000000e+00   \n",
       "50%                  NaN      2.000000          2.500000e+05   \n",
       "75%                  NaN      3.000000          6.995850e+05   \n",
       "max                  NaN      5.000000          3.374772e+07   \n",
       "\n",
       "        Quarterly Rating Gender   City Education Level Date of Joining  \\\n",
       "count       19190.000000  19190  19190           19190           19190   \n",
       "unique               NaN      2     29               6             869   \n",
       "top                  NaN   Male    C20        Bachelor      23.07.2012   \n",
       "freq                 NaN  11151   1014            5551             194   \n",
       "mean            2.008963    NaN    NaN             NaN             NaN   \n",
       "std             1.009839    NaN    NaN             NaN             NaN   \n",
       "min             1.000000    NaN    NaN             NaN             NaN   \n",
       "25%             1.000000    NaN    NaN             NaN             NaN   \n",
       "50%             2.000000    NaN    NaN             NaN             NaN   \n",
       "75%             3.000000    NaN    NaN             NaN             NaN   \n",
       "max             4.000000    NaN    NaN             NaN             NaN   \n",
       "\n",
       "        Joining Designation  \n",
       "count          19190.000000  \n",
       "unique                  NaN  \n",
       "top                     NaN  \n",
       "freq                    NaN  \n",
       "mean               1.690412  \n",
       "std                0.836580  \n",
       "min                1.000000  \n",
       "25%                1.000000  \n",
       "50%                1.000000  \n",
       "75%                2.000000  \n",
       "max                5.000000  "
      ]
     },
     "execution_count": 7,
     "metadata": {},
     "output_type": "execute_result"
    }
   ],
   "source": [
    "employers.describe(include='all')"
   ]
  },
  {
   "cell_type": "code",
   "execution_count": 8,
   "id": "f039f59e",
   "metadata": {},
   "outputs": [
    {
     "name": "stdout",
     "output_type": "stream",
     "text": [
      "0            MASTER\n",
      "1            MASTER\n",
      "2            MASTER\n",
      "3            Master\n",
      "4            Master\n",
      "            ...    \n",
      "19185        Colege\n",
      "19186        Master\n",
      "19187      Bachelor\n",
      "19188    Bachelor's\n",
      "19189        Master\n",
      "Name: Education Level, Length: 19190, dtype: object\n"
     ]
    }
   ],
   "source": [
    "print(employers['Education Level'])"
   ]
  },
  {
   "cell_type": "code",
   "execution_count": 9,
   "id": "b92b51aa",
   "metadata": {},
   "outputs": [],
   "source": [
    "employers['Education Level'] = employers['Education Level'].apply(lambda x: 'Master' if x[0]== 'M' else ('College' if x[0]=='C' else 'Bachelor'))"
   ]
  },
  {
   "cell_type": "code",
   "execution_count": 10,
   "id": "26dd824a",
   "metadata": {},
   "outputs": [
    {
     "name": "stdout",
     "output_type": "stream",
     "text": [
      "0         57387.0\n",
      "1         57387.0\n",
      "2         57387.0\n",
      "3         67016.0\n",
      "4         67016.0\n",
      "           ...   \n",
      "19185     38619.0\n",
      "19186     62292.0\n",
      "19187     85688.0\n",
      "19188    111507.0\n",
      "19189    102822.0\n",
      "Name: Salary, Length: 19190, dtype: float64\n"
     ]
    }
   ],
   "source": [
    "employers['Salary'] = employers['Salary'].apply(lambda x: float(x.strip(' USD').replace(',','.')))\n",
    "\n",
    "print(employers['Salary'])"
   ]
  },
  {
   "cell_type": "code",
   "execution_count": 11,
   "id": "466d37d3",
   "metadata": {},
   "outputs": [
    {
     "data": {
      "text/plain": [
       "3"
      ]
     },
     "execution_count": 11,
     "metadata": {},
     "output_type": "execute_result"
    }
   ],
   "source": [
    "employers['Education Level'].nunique()"
   ]
  },
  {
   "cell_type": "code",
   "execution_count": 12,
   "id": "c7d0dc1c",
   "metadata": {},
   "outputs": [],
   "source": [
    "df = pd.merge(employers, cities.rename(\n",
    "columns={\n",
    "    'City_ID': 'City'\n",
    "}))"
   ]
  },
  {
   "cell_type": "code",
   "execution_count": 13,
   "id": "f9071eda",
   "metadata": {},
   "outputs": [
    {
     "name": "stdout",
     "output_type": "stream",
     "text": [
      "         ID Day of Month Rate  Age   Salary Last Working Date  Designation  \\\n",
      "0         1        01.01.2016   28  57387.0               NaN            1   \n",
      "1         1        01.02.2016   28  57387.0               NaN            1   \n",
      "2         1        01.03.2016   28  57387.0        11.03.2016            1   \n",
      "3        12        01.07.2016   35  28116.0               NaN            1   \n",
      "4        12        01.08.2016   35  28116.0               NaN            1   \n",
      "...     ...               ...  ...      ...               ...          ...   \n",
      "13639  1763        01.01.2017   22  33042.0        21.01.2017            1   \n",
      "13640  1161        01.10.2017   30  67371.0               NaN            3   \n",
      "13641  1746        01.01.2016   49  38478.0               NaN            2   \n",
      "13642  1043        01.05.2017   33  93121.0               NaN            3   \n",
      "13643  1606        01.09.2016   43  99127.0               NaN            3   \n",
      "\n",
      "       Total Business Value  Quarterly Rating  Gender City Education Level  \\\n",
      "0                   2381060                 2    Male  C23          Master   \n",
      "1                   -665480                 2    Male  C23          Master   \n",
      "2                         0                 2    Male  C23          Master   \n",
      "3                    500000                 4    Male  C23          Master   \n",
      "4                   1707180                 4    Male  C23          Master   \n",
      "...                     ...               ...     ...  ...             ...   \n",
      "13639                     0                 1  Female  C12         College   \n",
      "13640                304660                 1    Male  C12        Bachelor   \n",
      "13641                770320                 2  Female  C12          Master   \n",
      "13642                150150                 3    Male  C12        Bachelor   \n",
      "13643               1903060                 4  Female  C12        Bachelor   \n",
      "\n",
      "      Date of Joining  Joining Designation     City_Name  \n",
      "0          24.12.2015                    1      Portland  \n",
      "1          24.12.2015                    1      Portland  \n",
      "2          24.12.2015                    1      Portland  \n",
      "3          29.06.2016                    1      Portland  \n",
      "4          29.06.2016                    1      Portland  \n",
      "...               ...                  ...           ...  \n",
      "13639      30.11.2016                    1  Indianapolis  \n",
      "13640      08.02.2014                    1  Indianapolis  \n",
      "13641      24.09.2015                    1  Indianapolis  \n",
      "13642      14.05.2012                    2  Indianapolis  \n",
      "13643      22.08.2011                    1  Indianapolis  \n",
      "\n",
      "[13644 rows x 14 columns]\n"
     ]
    }
   ],
   "source": [
    "print(df)"
   ]
  },
  {
   "cell_type": "code",
   "execution_count": 14,
   "id": "bbe1e3f9",
   "metadata": {},
   "outputs": [],
   "source": [
    "df.drop('City', inplace=True, axis=1)"
   ]
  },
  {
   "cell_type": "code",
   "execution_count": 15,
   "id": "e666e80f",
   "metadata": {},
   "outputs": [],
   "source": [
    "df.rename(columns={\n",
    "    'City_Name': 'City'\n",
    "}, inplace=True)"
   ]
  },
  {
   "cell_type": "code",
   "execution_count": 16,
   "id": "b6fdae02",
   "metadata": {},
   "outputs": [
    {
     "name": "stdout",
     "output_type": "stream",
     "text": [
      "   ID Day of Month Rate  Age   Salary Last Working Date  Designation  \\\n",
      "0   1        01.01.2016   28  57387.0               NaN            1   \n",
      "1   1        01.02.2016   28  57387.0               NaN            1   \n",
      "2   1        01.03.2016   28  57387.0        11.03.2016            1   \n",
      "3  12        01.07.2016   35  28116.0               NaN            1   \n",
      "4  12        01.08.2016   35  28116.0               NaN            1   \n",
      "\n",
      "   Total Business Value  Quarterly Rating Gender Education Level  \\\n",
      "0               2381060                 2   Male          Master   \n",
      "1               -665480                 2   Male          Master   \n",
      "2                     0                 2   Male          Master   \n",
      "3                500000                 4   Male          Master   \n",
      "4               1707180                 4   Male          Master   \n",
      "\n",
      "  Date of Joining  Joining Designation      City  \n",
      "0      24.12.2015                    1  Portland  \n",
      "1      24.12.2015                    1  Portland  \n",
      "2      24.12.2015                    1  Portland  \n",
      "3      29.06.2016                    1  Portland  \n",
      "4      29.06.2016                    1  Portland  \n"
     ]
    }
   ],
   "source": [
    "print(df.head())"
   ]
  },
  {
   "cell_type": "code",
   "execution_count": 17,
   "id": "3da2624c",
   "metadata": {},
   "outputs": [
    {
     "data": {
      "text/html": [
       "<div>\n",
       "<style scoped>\n",
       "    .dataframe tbody tr th:only-of-type {\n",
       "        vertical-align: middle;\n",
       "    }\n",
       "\n",
       "    .dataframe tbody tr th {\n",
       "        vertical-align: top;\n",
       "    }\n",
       "\n",
       "    .dataframe thead th {\n",
       "        text-align: right;\n",
       "    }\n",
       "</style>\n",
       "<table border=\"1\" class=\"dataframe\">\n",
       "  <thead>\n",
       "    <tr style=\"text-align: right;\">\n",
       "      <th></th>\n",
       "      <th>Day of Month Rate</th>\n",
       "      <th>ID</th>\n",
       "      <th>Age</th>\n",
       "      <th>Gender</th>\n",
       "      <th>City</th>\n",
       "      <th>Education Level</th>\n",
       "      <th>Salary</th>\n",
       "      <th>Date of Joining</th>\n",
       "      <th>Last Working Date</th>\n",
       "      <th>Joining Designation</th>\n",
       "      <th>Designation</th>\n",
       "      <th>Total Business Value</th>\n",
       "      <th>Quarterly Rating</th>\n",
       "    </tr>\n",
       "  </thead>\n",
       "  <tbody>\n",
       "    <tr>\n",
       "      <th>0</th>\n",
       "      <td>01.01.2016</td>\n",
       "      <td>1</td>\n",
       "      <td>28</td>\n",
       "      <td>Male</td>\n",
       "      <td>Portland</td>\n",
       "      <td>Master</td>\n",
       "      <td>57387.0</td>\n",
       "      <td>24.12.2015</td>\n",
       "      <td>NaN</td>\n",
       "      <td>1</td>\n",
       "      <td>1</td>\n",
       "      <td>2381060</td>\n",
       "      <td>2</td>\n",
       "    </tr>\n",
       "    <tr>\n",
       "      <th>1</th>\n",
       "      <td>01.02.2016</td>\n",
       "      <td>1</td>\n",
       "      <td>28</td>\n",
       "      <td>Male</td>\n",
       "      <td>Portland</td>\n",
       "      <td>Master</td>\n",
       "      <td>57387.0</td>\n",
       "      <td>24.12.2015</td>\n",
       "      <td>NaN</td>\n",
       "      <td>1</td>\n",
       "      <td>1</td>\n",
       "      <td>-665480</td>\n",
       "      <td>2</td>\n",
       "    </tr>\n",
       "    <tr>\n",
       "      <th>2</th>\n",
       "      <td>01.03.2016</td>\n",
       "      <td>1</td>\n",
       "      <td>28</td>\n",
       "      <td>Male</td>\n",
       "      <td>Portland</td>\n",
       "      <td>Master</td>\n",
       "      <td>57387.0</td>\n",
       "      <td>24.12.2015</td>\n",
       "      <td>11.03.2016</td>\n",
       "      <td>1</td>\n",
       "      <td>1</td>\n",
       "      <td>0</td>\n",
       "      <td>2</td>\n",
       "    </tr>\n",
       "    <tr>\n",
       "      <th>3</th>\n",
       "      <td>01.07.2016</td>\n",
       "      <td>12</td>\n",
       "      <td>35</td>\n",
       "      <td>Male</td>\n",
       "      <td>Portland</td>\n",
       "      <td>Master</td>\n",
       "      <td>28116.0</td>\n",
       "      <td>29.06.2016</td>\n",
       "      <td>NaN</td>\n",
       "      <td>1</td>\n",
       "      <td>1</td>\n",
       "      <td>500000</td>\n",
       "      <td>4</td>\n",
       "    </tr>\n",
       "    <tr>\n",
       "      <th>4</th>\n",
       "      <td>01.08.2016</td>\n",
       "      <td>12</td>\n",
       "      <td>35</td>\n",
       "      <td>Male</td>\n",
       "      <td>Portland</td>\n",
       "      <td>Master</td>\n",
       "      <td>28116.0</td>\n",
       "      <td>29.06.2016</td>\n",
       "      <td>NaN</td>\n",
       "      <td>1</td>\n",
       "      <td>1</td>\n",
       "      <td>1707180</td>\n",
       "      <td>4</td>\n",
       "    </tr>\n",
       "    <tr>\n",
       "      <th>...</th>\n",
       "      <td>...</td>\n",
       "      <td>...</td>\n",
       "      <td>...</td>\n",
       "      <td>...</td>\n",
       "      <td>...</td>\n",
       "      <td>...</td>\n",
       "      <td>...</td>\n",
       "      <td>...</td>\n",
       "      <td>...</td>\n",
       "      <td>...</td>\n",
       "      <td>...</td>\n",
       "      <td>...</td>\n",
       "      <td>...</td>\n",
       "    </tr>\n",
       "    <tr>\n",
       "      <th>13639</th>\n",
       "      <td>01.01.2017</td>\n",
       "      <td>1763</td>\n",
       "      <td>22</td>\n",
       "      <td>Female</td>\n",
       "      <td>Indianapolis</td>\n",
       "      <td>College</td>\n",
       "      <td>33042.0</td>\n",
       "      <td>30.11.2016</td>\n",
       "      <td>21.01.2017</td>\n",
       "      <td>1</td>\n",
       "      <td>1</td>\n",
       "      <td>0</td>\n",
       "      <td>1</td>\n",
       "    </tr>\n",
       "    <tr>\n",
       "      <th>13640</th>\n",
       "      <td>01.10.2017</td>\n",
       "      <td>1161</td>\n",
       "      <td>30</td>\n",
       "      <td>Male</td>\n",
       "      <td>Indianapolis</td>\n",
       "      <td>Bachelor</td>\n",
       "      <td>67371.0</td>\n",
       "      <td>08.02.2014</td>\n",
       "      <td>NaN</td>\n",
       "      <td>1</td>\n",
       "      <td>3</td>\n",
       "      <td>304660</td>\n",
       "      <td>1</td>\n",
       "    </tr>\n",
       "    <tr>\n",
       "      <th>13641</th>\n",
       "      <td>01.01.2016</td>\n",
       "      <td>1746</td>\n",
       "      <td>49</td>\n",
       "      <td>Female</td>\n",
       "      <td>Indianapolis</td>\n",
       "      <td>Master</td>\n",
       "      <td>38478.0</td>\n",
       "      <td>24.09.2015</td>\n",
       "      <td>NaN</td>\n",
       "      <td>1</td>\n",
       "      <td>2</td>\n",
       "      <td>770320</td>\n",
       "      <td>2</td>\n",
       "    </tr>\n",
       "    <tr>\n",
       "      <th>13642</th>\n",
       "      <td>01.05.2017</td>\n",
       "      <td>1043</td>\n",
       "      <td>33</td>\n",
       "      <td>Male</td>\n",
       "      <td>Indianapolis</td>\n",
       "      <td>Bachelor</td>\n",
       "      <td>93121.0</td>\n",
       "      <td>14.05.2012</td>\n",
       "      <td>NaN</td>\n",
       "      <td>2</td>\n",
       "      <td>3</td>\n",
       "      <td>150150</td>\n",
       "      <td>3</td>\n",
       "    </tr>\n",
       "    <tr>\n",
       "      <th>13643</th>\n",
       "      <td>01.09.2016</td>\n",
       "      <td>1606</td>\n",
       "      <td>43</td>\n",
       "      <td>Female</td>\n",
       "      <td>Indianapolis</td>\n",
       "      <td>Bachelor</td>\n",
       "      <td>99127.0</td>\n",
       "      <td>22.08.2011</td>\n",
       "      <td>NaN</td>\n",
       "      <td>1</td>\n",
       "      <td>3</td>\n",
       "      <td>1903060</td>\n",
       "      <td>4</td>\n",
       "    </tr>\n",
       "  </tbody>\n",
       "</table>\n",
       "<p>13644 rows × 13 columns</p>\n",
       "</div>"
      ],
      "text/plain": [
       "      Day of Month Rate    ID  Age  Gender          City Education Level  \\\n",
       "0            01.01.2016     1   28    Male      Portland          Master   \n",
       "1            01.02.2016     1   28    Male      Portland          Master   \n",
       "2            01.03.2016     1   28    Male      Portland          Master   \n",
       "3            01.07.2016    12   35    Male      Portland          Master   \n",
       "4            01.08.2016    12   35    Male      Portland          Master   \n",
       "...                 ...   ...  ...     ...           ...             ...   \n",
       "13639        01.01.2017  1763   22  Female  Indianapolis         College   \n",
       "13640        01.10.2017  1161   30    Male  Indianapolis        Bachelor   \n",
       "13641        01.01.2016  1746   49  Female  Indianapolis          Master   \n",
       "13642        01.05.2017  1043   33    Male  Indianapolis        Bachelor   \n",
       "13643        01.09.2016  1606   43  Female  Indianapolis        Bachelor   \n",
       "\n",
       "        Salary Date of Joining Last Working Date  Joining Designation  \\\n",
       "0      57387.0      24.12.2015               NaN                    1   \n",
       "1      57387.0      24.12.2015               NaN                    1   \n",
       "2      57387.0      24.12.2015        11.03.2016                    1   \n",
       "3      28116.0      29.06.2016               NaN                    1   \n",
       "4      28116.0      29.06.2016               NaN                    1   \n",
       "...        ...             ...               ...                  ...   \n",
       "13639  33042.0      30.11.2016        21.01.2017                    1   \n",
       "13640  67371.0      08.02.2014               NaN                    1   \n",
       "13641  38478.0      24.09.2015               NaN                    1   \n",
       "13642  93121.0      14.05.2012               NaN                    2   \n",
       "13643  99127.0      22.08.2011               NaN                    1   \n",
       "\n",
       "       Designation  Total Business Value  Quarterly Rating  \n",
       "0                1               2381060                 2  \n",
       "1                1               -665480                 2  \n",
       "2                1                     0                 2  \n",
       "3                1                500000                 4  \n",
       "4                1               1707180                 4  \n",
       "...            ...                   ...               ...  \n",
       "13639            1                     0                 1  \n",
       "13640            3                304660                 1  \n",
       "13641            2                770320                 2  \n",
       "13642            3                150150                 3  \n",
       "13643            3               1903060                 4  \n",
       "\n",
       "[13644 rows x 13 columns]"
      ]
     },
     "execution_count": 17,
     "metadata": {},
     "output_type": "execute_result"
    }
   ],
   "source": [
    "df.loc[:, ['Day of Month Rate', 'ID', 'Age', 'Gender', 'City', 'Education Level', 'Salary', 'Date of Joining', 'Last Working Date', 'Joining Designation', 'Designation', 'Total Business Value', 'Quarterly Rating']]"
   ]
  },
  {
   "cell_type": "markdown",
   "id": "e2de3463",
   "metadata": {},
   "source": [
    "1. MMM.YY - Dzień wpisania oceny miesięcznej pracownika do bazy\n",
    "2. Emp_ID - Identyfikator pracownika\n",
    "3. Age - Wiek\n",
    "4. Gender - Płeć\n",
    "5. City - Identyfikator dla oddziału mieszczącego się w danym mieście\n",
    "6. Education_Level - Bachelor / College / Master\n",
    "7. Salary - Wynagrodzenie roczne\n",
    "8. Dateofjoining - Data dołączenia do firmy\n",
    "9. LastWorkingDate - Data odejścia, jeśli pracownik odszedł w danym okresie\n",
    "10. Joining.Designation - pięciostopniowy poziom kwalifikacji podczas rekrutacji (1 - niski poziom, 5 - bardzo wysoki poziom)\n",
    "11. Designation - aktualny poziom kwalifikacji\n",
    "12. Total.Business.Value - Sumaryczna ilość sprzedanych ubezpieczeń (KPI z którego są rozliczani w perspektywie miesięcznej)\n",
    "13. Quarterly.Rating - ocena roczna (1 - niski poziom, 5 bardzo wysoki poziom)"
   ]
  },
  {
   "cell_type": "code",
   "execution_count": 18,
   "id": "1e622ecf",
   "metadata": {},
   "outputs": [],
   "source": [
    "dropped = df.dropna()"
   ]
  },
  {
   "cell_type": "code",
   "execution_count": 19,
   "id": "1a758bf1",
   "metadata": {},
   "outputs": [
    {
     "name": "stdout",
     "output_type": "stream",
     "text": [
      "         ID Day of Month Rate  Age    Salary Last Working Date  Designation  \\\n",
      "2         1        01.03.2016   28   57387.0        11.03.2016            1   \n",
      "8        12        01.12.2016   35   28116.0        21.12.2016            1   \n",
      "10       16        01.02.2016   30   52963.0        22.02.2016            2   \n",
      "20       83        01.06.2017   34  115159.0        07.06.2017            3   \n",
      "26       99        01.08.2017   30   38068.0        29.07.2017            2   \n",
      "...     ...               ...  ...       ...               ...          ...   \n",
      "13585  2624        01.11.2016   33   87954.0        12.11.2016            3   \n",
      "13597  2647        01.01.2016   36   55601.0        04.01.2016            2   \n",
      "13600  2704        01.02.2017   33   29442.0        20.02.2017            2   \n",
      "13614  2732        01.02.2017   33   53480.0        17.02.2017            3   \n",
      "13639  1763        01.01.2017   22   33042.0        21.01.2017            1   \n",
      "\n",
      "       Total Business Value  Quarterly Rating  Gender Education Level  \\\n",
      "2                         0                 2    Male          Master   \n",
      "8                         0                 1    Male          Master   \n",
      "10                        0                 1  Female         College   \n",
      "20                        0                 1    Male          Master   \n",
      "26                        0                 1    Male         College   \n",
      "...                     ...               ...     ...             ...   \n",
      "13585                     0                 4  Female        Bachelor   \n",
      "13597                     0                 1    Male         College   \n",
      "13600                     0                 1    Male        Bachelor   \n",
      "13614                900000                 1  Female         College   \n",
      "13639                     0                 1  Female         College   \n",
      "\n",
      "      Date of Joining  Joining Designation          City  \n",
      "2          24.12.2015                    1      Portland  \n",
      "8          29.06.2016                    1      Portland  \n",
      "10         30.11.2015                    2      Portland  \n",
      "20         29.08.2016                    3      Portland  \n",
      "26         24.03.2017                    2      Portland  \n",
      "...               ...                  ...           ...  \n",
      "13585      30.07.2012                    2  Indianapolis  \n",
      "13597      15.12.2015                    2  Indianapolis  \n",
      "13600      12.12.2016                    2  Indianapolis  \n",
      "13614      21.06.2013                    1  Indianapolis  \n",
      "13639      30.11.2016                    1  Indianapolis  \n",
      "\n",
      "[1147 rows x 13 columns]\n"
     ]
    }
   ],
   "source": [
    "print(dropped)"
   ]
  },
  {
   "cell_type": "code",
   "execution_count": 35,
   "id": "6a0eb6b7",
   "metadata": {},
   "outputs": [
    {
     "data": {
      "image/png": "[encoded data removed]",
      "text/plain": [
       "<Figure size 1440x720 with 1 Axes>"
      ]
     },
     "metadata": {
      "needs_background": "light"
     },
     "output_type": "display_data"
    },
    {
     "data": {
      "text/plain": [
       "<Figure size 1440x720 with 0 Axes>"
      ]
     },
     "metadata": {},
     "output_type": "display_data"
    }
   ],
   "source": [
    "sns.countplot(data = dropped, x='City')\n",
    "plt.title('The number of employees who left the company per city', fontsize=20)\n",
    "plt.rcParams[\"figure.figsize\"] = (20,10)\n",
    "plt.xticks(rotation = 90, fontsize=14)\n",
    "plt.xlabel('City',fontsize=16)\n",
    "plt.ylabel('Count',fontsize=16)\n",
    "plt.show()\n",
    "plt.clf()"
   ]
  },
  {
   "cell_type": "code",
   "execution_count": 45,
   "id": "614fa065",
   "metadata": {},
   "outputs": [
    {
     "data": {
      "image/png": "[encoded data removed]",
      "text/plain": [
       "<Figure size 576x288 with 1 Axes>"
      ]
     },
     "metadata": {
      "needs_background": "light"
     },
     "output_type": "display_data"
    },
    {
     "data": {
      "text/plain": [
       "<Figure size 720x360 with 0 Axes>"
      ]
     },
     "metadata": {},
     "output_type": "display_data"
    }
   ],
   "source": [
    "sns.countplot(data = dropped, x='Gender')\n",
    "plt.title('The number of employees who left the company per gender')\n",
    "plt.rcParams[\"figure.figsize\"] = (10,5)\n",
    "plt.show()\n",
    "plt.clf()"
   ]
  },
  {
   "cell_type": "code",
   "execution_count": 46,
   "id": "44a2ab6e",
   "metadata": {},
   "outputs": [
    {
     "data": {
      "image/png": "[encoded data removed]",
      "text/plain": [
       "<Figure size 720x360 with 1 Axes>"
      ]
     },
     "metadata": {
      "needs_background": "light"
     },
     "output_type": "display_data"
    },
    {
     "data": {
      "text/plain": [
       "<Figure size 720x360 with 0 Axes>"
      ]
     },
     "metadata": {},
     "output_type": "display_data"
    }
   ],
   "source": [
    "sns.countplot(data = dropped, x='Age')\n",
    "plt.title('The number of employees who left the company per age')\n",
    "plt.rcParams[\"figure.figsize\"] = (10,5)\n",
    "plt.show()\n",
    "plt.clf()"
   ]
  },
  {
   "cell_type": "code",
   "execution_count": 51,
   "id": "f867d73d",
   "metadata": {},
   "outputs": [
    {
     "name": "stdout",
     "output_type": "stream",
     "text": [
      "33.26503923278117\n"
     ]
    }
   ],
   "source": [
    "age_mean = dropped['Age'].mean()\n",
    "print(age_mean)"
   ]
  },
  {
   "cell_type": "code",
   "execution_count": 52,
   "id": "3c570794",
   "metadata": {},
   "outputs": [
    {
     "name": "stdout",
     "output_type": "stream",
     "text": [
      "33.0\n"
     ]
    }
   ],
   "source": [
    "age_median = dropped['Age'].median()\n",
    "print(age_median)"
   ]
  },
  {
   "cell_type": "code",
   "execution_count": 55,
   "id": "bb6f9acc",
   "metadata": {},
   "outputs": [
    {
     "name": "stdout",
     "output_type": "stream",
     "text": [
      "55601.69311246731\n"
     ]
    }
   ],
   "source": [
    "salary_mean = dropped['Salary'].mean()\n",
    "print(salary_mean)"
   ]
  },
  {
   "cell_type": "code",
   "execution_count": 58,
   "id": "3d31d700",
   "metadata": {},
   "outputs": [
    {
     "name": "stdout",
     "output_type": "stream",
     "text": [
      "51764.0\n"
     ]
    }
   ],
   "source": [
    "salary_median = dropped['Salary'].median()\n",
    "print(salary_median)"
   ]
  },
  {
   "cell_type": "code",
   "execution_count": 59,
   "id": "a7f4aec3",
   "metadata": {},
   "outputs": [
    {
     "name": "stdout",
     "output_type": "stream",
     "text": [
      "0     27572.0\n",
      "1     33042.0\n",
      "2     37039.0\n",
      "3     38619.0\n",
      "4     38788.0\n",
      "5     47651.0\n",
      "6     54056.0\n",
      "7     57225.0\n",
      "8     59644.0\n",
      "9     62292.0\n",
      "10    63181.0\n",
      "11    67667.0\n",
      "12    69141.0\n",
      "13    77903.0\n",
      "14    82503.0\n",
      "dtype: float64\n"
     ]
    }
   ],
   "source": [
    "salary_mode = dropped['Salary'].mode()\n",
    "print(salary_mode)"
   ]
  },
  {
   "cell_type": "code",
   "execution_count": 60,
   "id": "e2388cca",
   "metadata": {},
   "outputs": [
    {
     "data": {
      "image/png": "[encoded data removed]",
      "text/plain": [
       "<Figure size 720x360 with 1 Axes>"
      ]
     },
     "metadata": {
      "needs_background": "light"
     },
     "output_type": "display_data"
    }
   ],
   "source": [
    "plt.hist(dropped['Salary'], bins=100)\n",
    "plt.vlines(x = salary_mean, ymin = 0, ymax = 50, colors = 'k', label='mean')\n",
    "plt.vlines(x = salary_median, ymin = 0, ymax = 50, colors = 'red', label='median')\n",
    "plt.legend()\n",
    "plt.show()"
   ]
  },
  {
   "cell_type": "code",
   "execution_count": 61,
   "id": "5c60e735",
   "metadata": {},
   "outputs": [
    {
     "data": {
      "image/png": "[encoded data removed]",
      "text/plain": [
       "<Figure size 720x360 with 1 Axes>"
      ]
     },
     "metadata": {
      "needs_background": "light"
     },
     "output_type": "display_data"
    }
   ],
   "source": [
    "plt.boxplot(dropped['Salary'])\n",
    "plt.show()"
   ]
  },
  {
   "cell_type": "code",
   "execution_count": null,
   "id": "c5aa897e",
   "metadata": {},
   "outputs": [],
   "source": []
  }
 ],
 "metadata": {
  "kernelspec": {
   "display_name": "Python 3 (ipykernel)",
   "language": "python",
   "name": "python3"
  },
  "language_info": {
   "codemirror_mode": {
    "name": "ipython",
    "version": 3
   },
   "file_extension": ".py",
   "mimetype": "text/x-python",
   "name": "python",
   "nbconvert_exporter": "python",
   "pygments_lexer": "ipython3",
   "version": "3.9.7"
  }
 },
 "nbformat": 4,
 "nbformat_minor": 5
}
